{
    "cells": [
        {
            "cell_type": "code",
            "execution_count": 41,
            "source": [
                "def predict(x,y):\r\n",
                "    import pickle\r\n",
                "    predictor = pickle.load(open('model.p','rb'))\r\n",
                "    Ans = predictor.predict_proba([[x,y]])\r\n",
                "    return Ans[0][1]\r\n"
            ],
            "outputs": [],
            "metadata": {}
        },
        {
            "cell_type": "code",
            "execution_count": 42,
            "source": [
                "predict(3,0)"
            ],
            "outputs": [
                {
                    "output_type": "execute_result",
                    "data": {
                        "text/plain": [
                            "0.24198002385589196"
                        ]
                    },
                    "metadata": {},
                    "execution_count": 42
                }
            ],
            "metadata": {}
        }
    ],
    "metadata": {
        "orig_nbformat": 4,
        "language_info": {
            "name": "python",
            "version": "3.9.2",
            "mimetype": "text/x-python",
            "codemirror_mode": {
                "name": "ipython",
                "version": 3
            },
            "pygments_lexer": "ipython3",
            "nbconvert_exporter": "python",
            "file_extension": ".py"
        },
        "kernelspec": {
            "name": "python3",
            "display_name": "Python 3.9.2 64-bit"
        },
        "interpreter": {
            "hash": "6f844975d56e1bfd82d59d10c01c573e30f553178a18f47d6b792c810163e009"
        }
    },
    "nbformat": 4,
    "nbformat_minor": 2
}