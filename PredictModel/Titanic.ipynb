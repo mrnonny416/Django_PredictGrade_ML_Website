{
    "cells": [
        {
            "cell_type": "code",
            "execution_count": 104,
            "source": [
                "import pandas as pd\r\n",
                "from sklearn.model_selection import train_test_split\r\n",
                "from sklearn.linear_model import LogisticRegression\r\n",
                "f = pd.read_csv('titanic_data.csv')\r\n",
                "X = f[['Pclass','Fare']]\r\n",
                "y = f['Survived']\r\n",
                "X_train, X_test, y_train, y_test = train_test_split(X, y, test_size=0.3, random_state=42)\r\n",
                "lr.fit(X_train,y_train)\r\n",
                "y_pred = lr.predict(X_test)\r\n",
                "from sklearn.metrics import accuracy_score\r\n",
                "accuracy_score(y_test, y_pred)\r\n",
                "X_test.head()\r\n",
                "#(891,12) 891 คือจำนวนข้อมูลที่มี ส่วน 12 คือหัวข้อที่มี"
            ],
            "outputs": [
                {
                    "output_type": "execute_result",
                    "data": {
                        "text/plain": [
                            "     Pclass     Fare\n",
                            "709       3  15.2458\n",
                            "439       2  10.5000\n",
                            "840       3   7.9250\n",
                            "720       2  33.0000\n",
                            "39        3  11.2417"
                        ],
                        "text/html": [
                            "<div>\n",
                            "<style scoped>\n",
                            "    .dataframe tbody tr th:only-of-type {\n",
                            "        vertical-align: middle;\n",
                            "    }\n",
                            "\n",
                            "    .dataframe tbody tr th {\n",
                            "        vertical-align: top;\n",
                            "    }\n",
                            "\n",
                            "    .dataframe thead th {\n",
                            "        text-align: right;\n",
                            "    }\n",
                            "</style>\n",
                            "<table border=\"1\" class=\"dataframe\">\n",
                            "  <thead>\n",
                            "    <tr style=\"text-align: right;\">\n",
                            "      <th></th>\n",
                            "      <th>Pclass</th>\n",
                            "      <th>Fare</th>\n",
                            "    </tr>\n",
                            "  </thead>\n",
                            "  <tbody>\n",
                            "    <tr>\n",
                            "      <th>709</th>\n",
                            "      <td>3</td>\n",
                            "      <td>15.2458</td>\n",
                            "    </tr>\n",
                            "    <tr>\n",
                            "      <th>439</th>\n",
                            "      <td>2</td>\n",
                            "      <td>10.5000</td>\n",
                            "    </tr>\n",
                            "    <tr>\n",
                            "      <th>840</th>\n",
                            "      <td>3</td>\n",
                            "      <td>7.9250</td>\n",
                            "    </tr>\n",
                            "    <tr>\n",
                            "      <th>720</th>\n",
                            "      <td>2</td>\n",
                            "      <td>33.0000</td>\n",
                            "    </tr>\n",
                            "    <tr>\n",
                            "      <th>39</th>\n",
                            "      <td>3</td>\n",
                            "      <td>11.2417</td>\n",
                            "    </tr>\n",
                            "  </tbody>\n",
                            "</table>\n",
                            "</div>"
                        ]
                    },
                    "metadata": {},
                    "execution_count": 104
                }
            ],
            "metadata": {}
        },
        {
            "cell_type": "code",
            "execution_count": 77,
            "source": [
                "import numpy as np\r\n",
                "age = f['Age'].values\r\n",
                "age = np.reshape(age,(-1,1))\r\n"
            ],
            "outputs": [],
            "metadata": {}
        },
        {
            "cell_type": "code",
            "execution_count": 79,
            "source": [
                "#ทีนี้ใช้ฟังก์ชั่น SimpleImputer เพื่อนำค่าอื่นมาแทนที่ “NaN” โดยค่าที่เราจะให้มาแทนคือค่าที่ปรากฏบ่อยที่สุด\r\n",
                "from sklearn.impute import SimpleImputer\r\n",
                "imp = SimpleImputer(missing_values = np.nan , strategy='most_frequent')\r\n",
                "imp.fit(age)\r\n",
                "#นำ imp มาใส่ใน f['Age']\r\n",
                "f['Age'] = imp.transform(age)\r\n",
                "#ดูความสอดคล้องขอข้อมูล\r\n",
                "#f.corr()*100"
            ],
            "outputs": [],
            "metadata": {}
        },
        {
            "cell_type": "code",
            "execution_count": 80,
            "source": [
                "f = pd.concat([f,pd.get_dummies(f['Sex'], prefix='Sex', dummy_na=True)],axis=1).drop(['Sex'],axis=1)\r\n",
                "f.head()"
            ],
            "outputs": [
                {
                    "output_type": "execute_result",
                    "data": {
                        "text/plain": [
                            "   PassengerId  Survived  Pclass  \\\n",
                            "0            1         0       3   \n",
                            "1            2         1       1   \n",
                            "2            3         1       3   \n",
                            "3            4         1       1   \n",
                            "4            5         0       3   \n",
                            "\n",
                            "                                                Name   Age  SibSp  Parch  \\\n",
                            "0                            Braund, Mr. Owen Harris  22.0      1      0   \n",
                            "1  Cumings, Mrs. John Bradley (Florence Briggs Th...  38.0      1      0   \n",
                            "2                             Heikkinen, Miss. Laina  26.0      0      0   \n",
                            "3       Futrelle, Mrs. Jacques Heath (Lily May Peel)  35.0      1      0   \n",
                            "4                           Allen, Mr. William Henry  35.0      0      0   \n",
                            "\n",
                            "             Ticket     Fare Cabin Embarked  Sex_female  Sex_male  Sex_nan  \n",
                            "0         A/5 21171   7.2500   NaN        S           0         1        0  \n",
                            "1          PC 17599  71.2833   C85        C           1         0        0  \n",
                            "2  STON/O2. 3101282   7.9250   NaN        S           1         0        0  \n",
                            "3            113803  53.1000  C123        S           1         0        0  \n",
                            "4            373450   8.0500   NaN        S           0         1        0  "
                        ],
                        "text/html": [
                            "<div>\n",
                            "<style scoped>\n",
                            "    .dataframe tbody tr th:only-of-type {\n",
                            "        vertical-align: middle;\n",
                            "    }\n",
                            "\n",
                            "    .dataframe tbody tr th {\n",
                            "        vertical-align: top;\n",
                            "    }\n",
                            "\n",
                            "    .dataframe thead th {\n",
                            "        text-align: right;\n",
                            "    }\n",
                            "</style>\n",
                            "<table border=\"1\" class=\"dataframe\">\n",
                            "  <thead>\n",
                            "    <tr style=\"text-align: right;\">\n",
                            "      <th></th>\n",
                            "      <th>PassengerId</th>\n",
                            "      <th>Survived</th>\n",
                            "      <th>Pclass</th>\n",
                            "      <th>Name</th>\n",
                            "      <th>Age</th>\n",
                            "      <th>SibSp</th>\n",
                            "      <th>Parch</th>\n",
                            "      <th>Ticket</th>\n",
                            "      <th>Fare</th>\n",
                            "      <th>Cabin</th>\n",
                            "      <th>Embarked</th>\n",
                            "      <th>Sex_female</th>\n",
                            "      <th>Sex_male</th>\n",
                            "      <th>Sex_nan</th>\n",
                            "    </tr>\n",
                            "  </thead>\n",
                            "  <tbody>\n",
                            "    <tr>\n",
                            "      <th>0</th>\n",
                            "      <td>1</td>\n",
                            "      <td>0</td>\n",
                            "      <td>3</td>\n",
                            "      <td>Braund, Mr. Owen Harris</td>\n",
                            "      <td>22.0</td>\n",
                            "      <td>1</td>\n",
                            "      <td>0</td>\n",
                            "      <td>A/5 21171</td>\n",
                            "      <td>7.2500</td>\n",
                            "      <td>NaN</td>\n",
                            "      <td>S</td>\n",
                            "      <td>0</td>\n",
                            "      <td>1</td>\n",
                            "      <td>0</td>\n",
                            "    </tr>\n",
                            "    <tr>\n",
                            "      <th>1</th>\n",
                            "      <td>2</td>\n",
                            "      <td>1</td>\n",
                            "      <td>1</td>\n",
                            "      <td>Cumings, Mrs. John Bradley (Florence Briggs Th...</td>\n",
                            "      <td>38.0</td>\n",
                            "      <td>1</td>\n",
                            "      <td>0</td>\n",
                            "      <td>PC 17599</td>\n",
                            "      <td>71.2833</td>\n",
                            "      <td>C85</td>\n",
                            "      <td>C</td>\n",
                            "      <td>1</td>\n",
                            "      <td>0</td>\n",
                            "      <td>0</td>\n",
                            "    </tr>\n",
                            "    <tr>\n",
                            "      <th>2</th>\n",
                            "      <td>3</td>\n",
                            "      <td>1</td>\n",
                            "      <td>3</td>\n",
                            "      <td>Heikkinen, Miss. Laina</td>\n",
                            "      <td>26.0</td>\n",
                            "      <td>0</td>\n",
                            "      <td>0</td>\n",
                            "      <td>STON/O2. 3101282</td>\n",
                            "      <td>7.9250</td>\n",
                            "      <td>NaN</td>\n",
                            "      <td>S</td>\n",
                            "      <td>1</td>\n",
                            "      <td>0</td>\n",
                            "      <td>0</td>\n",
                            "    </tr>\n",
                            "    <tr>\n",
                            "      <th>3</th>\n",
                            "      <td>4</td>\n",
                            "      <td>1</td>\n",
                            "      <td>1</td>\n",
                            "      <td>Futrelle, Mrs. Jacques Heath (Lily May Peel)</td>\n",
                            "      <td>35.0</td>\n",
                            "      <td>1</td>\n",
                            "      <td>0</td>\n",
                            "      <td>113803</td>\n",
                            "      <td>53.1000</td>\n",
                            "      <td>C123</td>\n",
                            "      <td>S</td>\n",
                            "      <td>1</td>\n",
                            "      <td>0</td>\n",
                            "      <td>0</td>\n",
                            "    </tr>\n",
                            "    <tr>\n",
                            "      <th>4</th>\n",
                            "      <td>5</td>\n",
                            "      <td>0</td>\n",
                            "      <td>3</td>\n",
                            "      <td>Allen, Mr. William Henry</td>\n",
                            "      <td>35.0</td>\n",
                            "      <td>0</td>\n",
                            "      <td>0</td>\n",
                            "      <td>373450</td>\n",
                            "      <td>8.0500</td>\n",
                            "      <td>NaN</td>\n",
                            "      <td>S</td>\n",
                            "      <td>0</td>\n",
                            "      <td>1</td>\n",
                            "      <td>0</td>\n",
                            "    </tr>\n",
                            "  </tbody>\n",
                            "</table>\n",
                            "</div>"
                        ]
                    },
                    "metadata": {},
                    "execution_count": 80
                }
            ],
            "metadata": {}
        },
        {
            "cell_type": "code",
            "execution_count": 100,
            "source": [
                "X = f[['Pclass','Fare','Sex_female','Sex_male']]\r\n",
                "y = f['Survived']\r\n",
                "X_train, X_test, y_train, y_test = train_test_split(X, y, test_size=0.3, random_state=42)\r\n",
                "lr.fit(X_train,y_train)\r\n",
                "y_pred = lr.predict(X_test)\r\n",
                "from sklearn.metrics import accuracy_score\r\n",
                "accuracy_score(y_test, y_pred)\r\n"
            ],
            "outputs": [
                {
                    "output_type": "execute_result",
                    "data": {
                        "text/plain": [
                            "0.7910447761194029"
                        ]
                    },
                    "metadata": {},
                    "execution_count": 100
                }
            ],
            "metadata": {}
        },
        {
            "cell_type": "code",
            "execution_count": 82,
            "source": [
                "X = f[['Pclass','Fare','Sex_female','Sex_male','Age']]\r\n",
                "y = f['Survived']\r\n",
                "from sklearn.preprocessing import StandardScaler\r\n",
                "scale = StandardScaler()\r\n",
                "X = scale.fit_transform(X)\r\n",
                "X_train, X_test, y_train, y_test = train_test_split(X, y, test_size=0.3, random_state=42)\r\n",
                "lr.fit(X_train,y_train)\r\n",
                "y_pred = lr.predict(X_test)\r\n",
                "from sklearn.metrics import accuracy_score,classification_report\r\n",
                "print('ACC ',accuracy_score(y_test, y_pred))\r\n",
                "print(classification_report(y_test, y_pred))"
            ],
            "outputs": [
                {
                    "output_type": "stream",
                    "name": "stdout",
                    "text": [
                        "ACC  0.7985074626865671\n",
                        "              precision    recall  f1-score   support\n",
                        "\n",
                        "           0       0.81      0.86      0.83       157\n",
                        "           1       0.78      0.71      0.75       111\n",
                        "\n",
                        "    accuracy                           0.80       268\n",
                        "   macro avg       0.80      0.79      0.79       268\n",
                        "weighted avg       0.80      0.80      0.80       268\n",
                        "\n"
                    ]
                }
            ],
            "metadata": {}
        },
        {
            "cell_type": "code",
            "execution_count": 83,
            "source": [
                "from sklearn.model_selection import GridSearchCV\r\n",
                "parameters = {'C': np.arange(1,10,0.5)}\r\n",
                "lr_best = GridSearchCV(lr, parameters, cv=5)\r\n",
                "lr_best.fit(X_train,y_train)\r\n",
                "lr_best.best_estimator_"
            ],
            "outputs": [
                {
                    "output_type": "execute_result",
                    "data": {
                        "text/plain": [
                            "LogisticRegression(C=2.5)"
                        ]
                    },
                    "metadata": {},
                    "execution_count": 83
                }
            ],
            "metadata": {}
        },
        {
            "cell_type": "code",
            "execution_count": 84,
            "source": [
                "y_pred = lr_best.predict(X_test)\r\n",
                "from sklearn.metrics import accuracy_score\r\n",
                "print('ACC ',accuracy_score(y_test, y_pred))\r\n",
                "print(classification_report(y_test, y_pred))"
            ],
            "outputs": [
                {
                    "output_type": "stream",
                    "name": "stdout",
                    "text": [
                        "ACC  0.7985074626865671\n",
                        "              precision    recall  f1-score   support\n",
                        "\n",
                        "           0       0.81      0.86      0.83       157\n",
                        "           1       0.78      0.71      0.75       111\n",
                        "\n",
                        "    accuracy                           0.80       268\n",
                        "   macro avg       0.80      0.79      0.79       268\n",
                        "weighted avg       0.80      0.80      0.80       268\n",
                        "\n"
                    ]
                }
            ],
            "metadata": {}
        },
        {
            "cell_type": "code",
            "execution_count": 89,
            "source": [
                "import pickle\r\n",
                "X = f[['Pclass','Fare']]\r\n",
                "y = f['Survived']\r\n",
                "X_train, X_test, y_train, y_test = train_test_split(X, y, test_size=0.3, random_state=42)\r\n",
                "lr = LogisticRegression()\r\n",
                "lr.fit(X_train,y_train)\r\n",
                "pickle.dump(lr, open('model.p','wb'))\r\n"
            ],
            "outputs": [],
            "metadata": {}
        },
        {
            "cell_type": "code",
            "execution_count": 91,
            "source": [
                "y.shape"
            ],
            "outputs": [
                {
                    "output_type": "execute_result",
                    "data": {
                        "text/plain": [
                            "(891,)"
                        ]
                    },
                    "metadata": {},
                    "execution_count": 91
                }
            ],
            "metadata": {}
        }
    ],
    "metadata": {
        "orig_nbformat": 4,
        "language_info": {
            "name": "python",
            "version": "3.9.2",
            "mimetype": "text/x-python",
            "codemirror_mode": {
                "name": "ipython",
                "version": 3
            },
            "pygments_lexer": "ipython3",
            "nbconvert_exporter": "python",
            "file_extension": ".py"
        },
        "kernelspec": {
            "name": "python3",
            "display_name": "Python 3.9.2 64-bit"
        },
        "interpreter": {
            "hash": "6f844975d56e1bfd82d59d10c01c573e30f553178a18f47d6b792c810163e009"
        }
    },
    "nbformat": 4,
    "nbformat_minor": 2
}